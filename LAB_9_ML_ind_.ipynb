{
  "nbformat": 4,
  "nbformat_minor": 0,
  "metadata": {
    "colab": {
      "provenance": []
    },
    "kernelspec": {
      "name": "python3",
      "display_name": "Python 3"
    },
    "language_info": {
      "name": "python"
    }
  },
  "cells": [
    {
      "cell_type": "markdown",
      "source": [
        "### Experiment -9 <br>\n",
        "##### Write a program to implement k-Nearest Neighbour algorithm to classify the iris data set. Print both correct and wrong predictions. Java/Python ML library classes can be used for this problem."
      ],
      "metadata": {
        "id": "eHHign0VrUMA"
      }
    },
    {
      "cell_type": "code",
      "source": [
        "from sklearn.datasets import load_iris\n",
        "from sklearn.neighbors import KNeighborsClassifier\n",
        "from sklearn.model_selection import train_test_split\n",
        "\n",
        "# Load Iris dataset\n",
        "iris = load_iris()\n",
        "\n",
        "# Split the data into training and testing sets\n",
        "X_train, X_test, y_train, y_test = train_test_split(iris.data, iris.target, test_size=0.3, random_state=42)\n",
        "\n",
        "# Create the k-NN classifier with k=3\n",
        "knn = KNeighborsClassifier(n_neighbors=3)\n",
        "\n",
        "# Train the classifier on the training data\n",
        "knn.fit(X_train, y_train)\n",
        "\n",
        "# Predict the classes of the test data\n",
        "y_pred = knn.predict(X_test)\n",
        "\n"
      ],
      "metadata": {
        "id": "pfImOUoFAICg"
      },
      "execution_count": null,
      "outputs": []
    },
    {
      "cell_type": "markdown",
      "source": [
        "#####    "
      ],
      "metadata": {
        "id": "XFpMpMGOQ5p2"
      }
    },
    {
      "cell_type": "markdown",
      "source": [
        "#####    "
      ],
      "metadata": {
        "id": "UCGJG2upQ743"
      }
    },
    {
      "cell_type": "markdown",
      "source": [
        "#####    "
      ],
      "metadata": {
        "id": "7MtrzxgeQ8XN"
      }
    },
    {
      "cell_type": "markdown",
      "source": [
        "#####    "
      ],
      "metadata": {
        "id": "fRuWeq2uQ85t"
      }
    },
    {
      "cell_type": "markdown",
      "source": [
        "#####    "
      ],
      "metadata": {
        "id": "y6AwBYxRQ9uN"
      }
    },
    {
      "cell_type": "markdown",
      "source": [
        "#####    "
      ],
      "metadata": {
        "id": "u9ur9cjSRCGl"
      }
    },
    {
      "cell_type": "markdown",
      "source": [
        "#####    "
      ],
      "metadata": {
        "id": "KCrSfo--RHal"
      }
    },
    {
      "cell_type": "markdown",
      "source": [
        "#####    "
      ],
      "metadata": {
        "id": "zh_KNrhERLmN"
      }
    },
    {
      "cell_type": "code",
      "source": [
        "# Print the correct and wrong predictions\n",
        "for i in range(len(y_test)):\n",
        "    if y_test[i] == y_pred[i]:\n",
        "        print(\"Correct prediction: Actual value is\", iris.target_names[y_test[i]], \"and predicted value is\", iris.target_names[y_pred[i]])\n",
        "    else:\n",
        "        print(\"Wrong prediction: Actual value is\", iris.target_names[y_test[i]], \"and predicted value is\", iris.target_names[y_pred[i]])"
      ],
      "metadata": {
        "colab": {
          "base_uri": "https://localhost:8080/"
        },
        "id": "U_yY4C04P9PA",
        "outputId": "a6761326-035a-4285-f4f9-cbee0dcc4d5d"
      },
      "execution_count": null,
      "outputs": [
        {
          "output_type": "stream",
          "name": "stdout",
          "text": [
            "Correct prediction: Actual value is versicolor and predicted value is versicolor\n",
            "Correct prediction: Actual value is setosa and predicted value is setosa\n",
            "Correct prediction: Actual value is virginica and predicted value is virginica\n",
            "Correct prediction: Actual value is versicolor and predicted value is versicolor\n",
            "Correct prediction: Actual value is versicolor and predicted value is versicolor\n",
            "Correct prediction: Actual value is setosa and predicted value is setosa\n",
            "Correct prediction: Actual value is versicolor and predicted value is versicolor\n",
            "Correct prediction: Actual value is virginica and predicted value is virginica\n",
            "Correct prediction: Actual value is versicolor and predicted value is versicolor\n",
            "Correct prediction: Actual value is versicolor and predicted value is versicolor\n",
            "Correct prediction: Actual value is virginica and predicted value is virginica\n",
            "Correct prediction: Actual value is setosa and predicted value is setosa\n",
            "Correct prediction: Actual value is setosa and predicted value is setosa\n",
            "Correct prediction: Actual value is setosa and predicted value is setosa\n",
            "Correct prediction: Actual value is setosa and predicted value is setosa\n",
            "Correct prediction: Actual value is versicolor and predicted value is versicolor\n",
            "Correct prediction: Actual value is virginica and predicted value is virginica\n",
            "Correct prediction: Actual value is versicolor and predicted value is versicolor\n",
            "Correct prediction: Actual value is versicolor and predicted value is versicolor\n",
            "Correct prediction: Actual value is virginica and predicted value is virginica\n",
            "Correct prediction: Actual value is setosa and predicted value is setosa\n",
            "Correct prediction: Actual value is virginica and predicted value is virginica\n",
            "Correct prediction: Actual value is setosa and predicted value is setosa\n",
            "Correct prediction: Actual value is virginica and predicted value is virginica\n",
            "Correct prediction: Actual value is virginica and predicted value is virginica\n",
            "Correct prediction: Actual value is virginica and predicted value is virginica\n",
            "Correct prediction: Actual value is virginica and predicted value is virginica\n",
            "Correct prediction: Actual value is virginica and predicted value is virginica\n",
            "Correct prediction: Actual value is setosa and predicted value is setosa\n",
            "Correct prediction: Actual value is setosa and predicted value is setosa\n",
            "Correct prediction: Actual value is setosa and predicted value is setosa\n",
            "Correct prediction: Actual value is setosa and predicted value is setosa\n",
            "Correct prediction: Actual value is versicolor and predicted value is versicolor\n",
            "Correct prediction: Actual value is setosa and predicted value is setosa\n",
            "Correct prediction: Actual value is setosa and predicted value is setosa\n",
            "Correct prediction: Actual value is virginica and predicted value is virginica\n",
            "Correct prediction: Actual value is versicolor and predicted value is versicolor\n",
            "Correct prediction: Actual value is setosa and predicted value is setosa\n",
            "Correct prediction: Actual value is setosa and predicted value is setosa\n",
            "Correct prediction: Actual value is setosa and predicted value is setosa\n",
            "Correct prediction: Actual value is virginica and predicted value is virginica\n",
            "Correct prediction: Actual value is versicolor and predicted value is versicolor\n",
            "Correct prediction: Actual value is versicolor and predicted value is versicolor\n",
            "Correct prediction: Actual value is setosa and predicted value is setosa\n",
            "Correct prediction: Actual value is setosa and predicted value is setosa\n"
          ]
        }
      ]
    }
  ]
}